{
 "cells": [
  {
   "cell_type": "code",
   "execution_count": 1,
   "id": "f1783710",
   "metadata": {},
   "outputs": [],
   "source": [
    "def AddMonth():\n",
    "    month=input(\"Enter number of month\")\n",
    "    return month\n",
    "\n",
    "def Rider():\n",
    "    noofmonth=AddMonth()\n",
    "    No_Of_Days_In_One_Working_Week=6\n",
    "    No_Of_Weeks_In_One_Month=4\n",
    "    No_Of_Fuel_Used_In_Three_Days=50\n",
    "    No_Of_Fuel_Used_In_Six_Days=100\n",
    "    No_Of_Km_Covered_In_Three_Days=60\n",
    "    No_Of_Km_Covered_In_Six_Days=120\n",
    "    \n",
    "    print(\"X_No_Of_Month is\", noofmonth )\n",
    "    \n",
    "    No_Of_Working_Days_In_A_Month= No_Of_Days_In_One_Working_Week * No_Of_Weeks_In_One_Month\n",
    "    \n",
    "    No_Of_WorkingDays_In_X_Month= int(noofmonth) *  No_Of_Working_Days_In_A_Month\n",
    "    \n",
    "    Amount_Of_Fuel_In_A_Month=No_Of_Fuel_Used_In_Six_Days * No_Of_Weeks_In_One_Month\n",
    "    \n",
    "    Amount_Of_Fuel_In_X_Month= int(noofmonth) *  Amount_Of_Fuel_In_A_Month\n",
    "    \n",
    "    Total_KM_in_A_Month=  No_Of_Km_Covered_In_Six_Days *  No_Of_Weeks_In_One_Month\n",
    "    \n",
    "    Total_KM_in_X_Month= int(noofmonth) * Total_KM_in_A_Month\n",
    "    \n",
    "    print(\"No of working days in a month is\", No_Of_Working_Days_In_A_Month, \"Days\")\n",
    "    \n",
    "    print(\"No of working days in \", noofmonth , \"months is\", No_Of_WorkingDays_In_X_Month , \"Days\")\n",
    "    \n",
    "    print(\"Amount of fuel consumed in a month is\", Amount_Of_Fuel_In_A_Month, \"Liters\")\n",
    "    \n",
    "    print(\"Amount of fuel consumed in\", noofmonth ,\"months is\", Amount_Of_Fuel_In_X_Month,\"Liters\")\n",
    "    \n",
    "    print(\"Total KM covered in a Month\", Total_KM_in_A_Month, \" KM\" )\n",
    "    \n",
    "    print(\"Total KM covered in\", noofmonth ,\"months is\", Total_KM_in_X_Month,\"KM\" )"
   ]
  },
  {
   "cell_type": "code",
   "execution_count": 2,
   "id": "ba0f1657",
   "metadata": {},
   "outputs": [
    {
     "name": "stdout",
     "output_type": "stream",
     "text": [
      "Enter number of month3\n",
      "X_No_Of_Month is 3\n",
      "No of working days in a month is 24 Days\n",
      "No of working days in  3 months is 72 Days\n",
      "Amount of fuel consumed in a month is 400 Liters\n",
      "Amount of fuel consumed in 3 months is 1200 Liters\n",
      "Total KM covered in a Month 480  KM\n",
      "Total KM covered in 3 months is 1440 KM\n"
     ]
    }
   ],
   "source": [
    "Rider()"
   ]
  },
  {
   "cell_type": "code",
   "execution_count": null,
   "id": "aa1aefe9",
   "metadata": {},
   "outputs": [],
   "source": []
  }
 ],
 "metadata": {
  "kernelspec": {
   "display_name": "Python 3 (ipykernel)",
   "language": "python",
   "name": "python3"
  },
  "language_info": {
   "codemirror_mode": {
    "name": "ipython",
    "version": 3
   },
   "file_extension": ".py",
   "mimetype": "text/x-python",
   "name": "python",
   "nbconvert_exporter": "python",
   "pygments_lexer": "ipython3",
   "version": "3.11.1"
  }
 },
 "nbformat": 4,
 "nbformat_minor": 5
}
